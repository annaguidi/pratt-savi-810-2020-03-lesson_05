{
 "cells": [
  {
   "cell_type": "markdown",
   "metadata": {},
   "source": [
    "# Lesson 05\n",
    "\n",
    "# Introduction to Debugging, Geoprocessing (Geospatial Analysis) with GeoPandas \n",
    "\n",
    "\n",
    "![http://www.pratt.edu/tiny_mce/plugins/imagemanager/files/Light_brown_blue22.jpg](http://www.pratt.edu/tiny_mce/plugins/imagemanager/files/Light_brown_blue22.jpg)\n",
    "\n",
    "# Class Links\n",
    "\n",
    "* [Syllabus](https://docs.google.com/document/d/1KHxT-NkaoXXdSNkK8JlzL2FFgmNoxPQ25fwgtXPnbrY)\n",
    "\n",
    "* [Class Google Spreadsheet](https://docs.google.com/spreadsheets/d/1t481r7HjQBbjNtFOABSOlcckzQhdrh12TCzpSYKurI0/edit?usp=sharing)\n",
    "\n",
    "* [Google Meetup Video Hangout](https://meet.google.com/aym-kxae-bzr)\n",
    "\n",
    "  * For United States Dial +1 \n",
    "    * (669) 220-6376\n",
    "  * Enter this PIN when prompted: \n",
    "    * 891 126 706 #\n",
    "  \n",
    "* [GitHub Organization](https://github.com/pratt-savi-810)\n",
    "\n",
    "* [Slack Organization](https://app.slack.com/client/T01068MA75X/C010J3Q2QET)\n",
    "\n",
    "* [Resources](https://github.com/pratt-savi-810/resources)"
   ]
  },
  {
   "cell_type": "markdown",
   "metadata": {
    "toc": true
   },
   "source": [
    "<h1>Table of Contents<span class=\"tocSkip\"></span></h1>\n",
    "<div class=\"toc\"><ul class=\"toc-item\"><li><span><a href=\"#Lesson-05\" data-toc-modified-id=\"Lesson-05-1\">Lesson 05</a></span></li><li><span><a href=\"#Introduction-to-Debugging,-Geoprocessing-(Geospatial-Analysis)-with-GeoPandas\" data-toc-modified-id=\"Introduction-to-Debugging,-Geoprocessing-(Geospatial-Analysis)-with-GeoPandas-2\">Introduction to Debugging, Geoprocessing (Geospatial Analysis) with GeoPandas</a></span></li><li><span><a href=\"#Class-Links\" data-toc-modified-id=\"Class-Links-3\">Class Links</a></span></li><li><span><a href=\"#Learning-Objectives\" data-toc-modified-id=\"Learning-Objectives-4\">Learning Objectives</a></span><ul class=\"toc-item\"><li><ul class=\"toc-item\"><li><span><a href=\"#Fork-and-Clone-this-Lesson-Repo\" data-toc-modified-id=\"Fork-and-Clone-this-Lesson-Repo-4.0.1\">Fork and Clone this Lesson Repo</a></span></li></ul></li></ul></li><li><span><a href=\"#Import-Libraries\" data-toc-modified-id=\"Import-Libraries-5\">Import Libraries</a></span></li><li><span><a href=\"#Debugging-Review\" data-toc-modified-id=\"Debugging-Review-6\">Debugging Review</a></span><ul class=\"toc-item\"><li><span><a href=\"#How-come-this-code-errors-out?\" data-toc-modified-id=\"How-come-this-code-errors-out?-6.1\">How come this code errors out?</a></span></li><li><span><a href=\"#Why-does-this-function-not-return-correctly-for-the-name-Amy?\" data-toc-modified-id=\"Why-does-this-function-not-return-correctly-for-the-name-Amy?-6.2\">Why does this function not return correctly for the name <code>Amy</code>?</a></span></li><li><span><a href=\"#Incorrect-FizzBuzz\" data-toc-modified-id=\"Incorrect-FizzBuzz-6.3\">Incorrect FizzBuzz</a></span></li><li><span><a href=\"#What-is-missing-from-this-Function?\" data-toc-modified-id=\"What-is-missing-from-this-Function?-6.4\">What is missing from this Function?</a></span></li><li><span><a href=\"#How-do-I-interpret-this-error-and-what's-the-fix?\" data-toc-modified-id=\"How-do-I-interpret-this-error-and-what's-the-fix?-6.5\">How do I interpret this error and what's the fix?</a></span></li><li><span><a href=\"#Why-is-this-Function-returning-the-wrong-values\" data-toc-modified-id=\"Why-is-this-Function-returning-the-wrong-values-6.6\">Why is this Function returning the wrong values</a></span></li></ul></li><li><span><a href=\"#Seaborn-PairPlot\" data-toc-modified-id=\"Seaborn-PairPlot-7\">Seaborn PairPlot</a></span><ul class=\"toc-item\"><li><ul class=\"toc-item\"><li><ul class=\"toc-item\"><li><span><a href=\"#First-we'll-load-in-a-new-dataset-from-Seabron-called-&quot;iris&quot;\" data-toc-modified-id=\"First-we'll-load-in-a-new-dataset-from-Seabron-called-&quot;iris&quot;-7.0.0.1\">First we'll load in a new dataset from Seabron called <code>\"iris\"</code></a></span></li><li><span><a href=\"#Check-out-the-iris-DataFrame\" data-toc-modified-id=\"Check-out-the-iris-DataFrame-7.0.0.2\">Check out the <code>iris</code> DataFrame</a></span></li><li><span><a href=\"#Now-let's-use-the-.pairplot()-to-show-Distributions-along-with-Scatterplots\" data-toc-modified-id=\"Now-let's-use-the-.pairplot()-to-show-Distributions-along-with-Scatterplots-7.0.0.3\">Now let's use the <code>.pairplot()</code> to show Distributions along with Scatterplots</a></span></li><li><span><a href=\"#Now-let's-set-a-Column-as-a-Seperate-Class\" data-toc-modified-id=\"Now-let's-set-a-Column-as-a-Seperate-Class-7.0.0.4\">Now let's set a Column as a Seperate Class</a></span></li><li><span><a href=\"#Seaborn-.scatterplot()\" data-toc-modified-id=\"Seaborn-.scatterplot()-7.0.0.5\">Seaborn <code>.scatterplot()</code></a></span></li></ul></li></ul></li></ul></li><li><span><a href=\"#Missing-Values-(Nulls)-with-Missingno\" data-toc-modified-id=\"Missing-Values-(Nulls)-with-Missingno-8\">Missing Values (Nulls) with Missingno</a></span><ul class=\"toc-item\"><li><ul class=\"toc-item\"><li><ul class=\"toc-item\"><li><span><a href=\"#Read-in-the-.csv-as-missing_df.\" data-toc-modified-id=\"Read-in-the-.csv-as-missing_df.-8.0.0.1\">Read in the <code>.csv</code> as <code>missing_df</code>.</a></span></li><li><span><a href=\"#Use-msno.matrix()-to-visualize-our-Missing-Data\" data-toc-modified-id=\"Use-msno.matrix()-to-visualize-our-Missing-Data-8.0.0.2\">Use <code>msno.matrix()</code> to visualize our Missing Data</a></span></li></ul></li></ul></li></ul></li><li><span><a href=\"#Projection-Systems\" data-toc-modified-id=\"Projection-Systems-9\">Projection Systems</a></span><ul class=\"toc-item\"><li><ul class=\"toc-item\"><li><ul class=\"toc-item\"><li><span><a href=\"#Set-the-.geojson-url-to-a-variable\" data-toc-modified-id=\"Set-the-.geojson-url-to-a-variable-9.0.0.1\">Set the <code>.geojson</code> url to a variable</a></span></li><li><span><a href=\"#Read-.geojson-file-to-GeoDataFrame\" data-toc-modified-id=\"Read-.geojson-file-to-GeoDataFrame-9.0.0.2\">Read <code>.geojson</code> file to GeoDataFrame</a></span></li><li><span><a href=\"#Plot-the-GeoDataFrame\" data-toc-modified-id=\"Plot-the-GeoDataFrame-9.0.0.3\">Plot the GeoDataFrame</a></span></li><li><span><a href=\"#Access-the-GeoDataFrame's-CRS-(Coordinate-Reference-System)\" data-toc-modified-id=\"Access-the-GeoDataFrame's-CRS-(Coordinate-Reference-System)-9.0.0.4\">Access the GeoDataFrame's CRS (Coordinate Reference System)</a></span></li></ul></li></ul></li><li><span><a href=\"#Re-Projecting-Data\" data-toc-modified-id=\"Re-Projecting-Data-9.1\">Re-Projecting Data</a></span><ul class=\"toc-item\"><li><ul class=\"toc-item\"><li><span><a href=\"#Note-the-differences-in-the-geometry-column-data\" data-toc-modified-id=\"Note-the-differences-in-the-geometry-column-data-9.1.0.1\">Note the differences in the <strong>geometry</strong> column data</a></span></li><li><span><a href=\"#To-change-the-Projection,-we-set-the-argument-inplace=True\" data-toc-modified-id=\"To-change-the-Projection,-we-set-the-argument-inplace=True-9.1.0.2\">To change the Projection, we set the argument <code>inplace=True</code></a></span></li><li><span><a href=\"#Let's-show-another-example-for-emphasis\" data-toc-modified-id=\"Let's-show-another-example-for-emphasis-9.1.0.3\">Let's show another example for emphasis</a></span></li></ul></li></ul></li></ul></li><li><span><a href=\"#Geoprocessing\" data-toc-modified-id=\"Geoprocessing-10\">Geoprocessing</a></span><ul class=\"toc-item\"><li><ul class=\"toc-item\"><li><span><a href=\"#Geoprocessing-Library-Selection\" data-toc-modified-id=\"Geoprocessing-Library-Selection-10.0.1\">Geoprocessing Library Selection</a></span><ul class=\"toc-item\"><li><span><a href=\"#ArcPy\" data-toc-modified-id=\"ArcPy-10.0.1.1\">ArcPy</a></span></li></ul></li></ul></li></ul></li><li><span><a href=\"#Geometric-Manipulations\" data-toc-modified-id=\"Geometric-Manipulations-11\">Geometric Manipulations</a></span><ul class=\"toc-item\"><li><span><a href=\"#Buffer\" data-toc-modified-id=\"Buffer-11.1\">Buffer</a></span></li><li><span><a href=\"#Centroid\" data-toc-modified-id=\"Centroid-11.2\">Centroid</a></span></li><li><span><a href=\"#Convex-Hull\" data-toc-modified-id=\"Convex-Hull-11.3\">Convex Hull</a></span></li><li><span><a href=\"#Envelope\" data-toc-modified-id=\"Envelope-11.4\">Envelope</a></span></li><li><span><a href=\"#Simplify\" data-toc-modified-id=\"Simplify-11.5\">Simplify</a></span></li></ul></li><li><span><a href=\"#Set-Operations-with-Overlay\" data-toc-modified-id=\"Set-Operations-with-Overlay-12\">Set-Operations with Overlay</a></span></li><li><span><a href=\"#Union\" data-toc-modified-id=\"Union-13\">Union</a></span><ul class=\"toc-item\"><li><span><a href=\"#Interesect\" data-toc-modified-id=\"Interesect-13.1\">Interesect</a></span></li></ul></li><li><span><a href=\"#Symetrical-Difference\" data-toc-modified-id=\"Symetrical-Difference-14\">Symetrical Difference</a></span></li><li><span><a href=\"#Difference\" data-toc-modified-id=\"Difference-15\">Difference</a></span></li><li><span><a href=\"#Dissolve\" data-toc-modified-id=\"Dissolve-16\">Dissolve</a></span><ul class=\"toc-item\"><li><span><a href=\"#Dissolve-and-Sum\" data-toc-modified-id=\"Dissolve-and-Sum-16.1\">Dissolve and Sum</a></span></li></ul></li><li><span><a href=\"#Merging-Data\" data-toc-modified-id=\"Merging-Data-17\">Merging Data</a></span></li><li><span><a href=\"#Spatial-Joins\" data-toc-modified-id=\"Spatial-Joins-18\">Spatial Joins</a></span></li><li><span><a href=\"#For-next-time\" data-toc-modified-id=\"For-next-time-19\">For next time</a></span></li></ul></div>"
   ]
  },
  {
   "cell_type": "markdown",
   "metadata": {},
   "source": [
    "# Learning Objectives\n",
    "\n",
    "* Debugging Review\n",
    "* Seaborn Pairplots\n",
    "* Missing Data Visualization with MissingNo\n",
    "* Geoprocessing (Geospatial Analysis) with GeoPandas\n",
    "* Geospatial Data Models (Raster)\n",
    "\n",
    "### Fork and Clone this Lesson Repo\n",
    "\n",
    "https://github.com/pratt-savi-810/pratt-savi-810-2020-03-lesson_05\n"
   ]
  },
  {
   "cell_type": "markdown",
   "metadata": {},
   "source": [
    "# Import Libraries\n",
    "\n",
    "Let's `import` some of the libraries we've already used. "
   ]
  },
  {
   "cell_type": "code",
   "execution_count": 150,
   "metadata": {},
   "outputs": [],
   "source": [
    "from IPython.display import IFrame\n",
    "import pandas as pd\n",
    "import geopandas as gpd\n",
    "import matplotlib.pyplot as plt\n",
    "import numpy as np\n",
    "import missingno as msno\n",
    "import seaborn as sns"
   ]
  },
  {
   "cell_type": "markdown",
   "metadata": {},
   "source": [
    "# Debugging Review"
   ]
  },
  {
   "cell_type": "markdown",
   "metadata": {},
   "source": [
    "## How come this code errors out? \n",
    "\n",
    "I want to access my `grades` for a given subject from a Dictionary. "
   ]
  },
  {
   "cell_type": "code",
   "execution_count": 151,
   "metadata": {},
   "outputs": [
    {
     "ename": "KeyError",
     "evalue": "'Geography'",
     "output_type": "error",
     "traceback": [
      "\u001b[0;31m------------------------------------------------\u001b[0m",
      "\u001b[0;31mKeyError\u001b[0m       Traceback (most recent call last)",
      "\u001b[0;32m<ipython-input-151-8f1dd50c3485>\u001b[0m in \u001b[0;36m<module>\u001b[0;34m\u001b[0m\n\u001b[1;32m      7\u001b[0m }\n\u001b[1;32m      8\u001b[0m \u001b[0;34m\u001b[0m\u001b[0m\n\u001b[0;32m----> 9\u001b[0;31m \u001b[0mdata\u001b[0m\u001b[0;34m[\u001b[0m\u001b[0;34m'grades'\u001b[0m\u001b[0;34m]\u001b[0m\u001b[0;34m[\u001b[0m\u001b[0;34m'Geography'\u001b[0m\u001b[0;34m]\u001b[0m\u001b[0;34m\u001b[0m\u001b[0;34m\u001b[0m\u001b[0m\n\u001b[0m",
      "\u001b[0;31mKeyError\u001b[0m: 'Geography'"
     ]
    }
   ],
   "source": [
    "data = {\n",
    "    'grades': {\n",
    "        'Math': 95, \n",
    "        'Science': 79,\n",
    "        'English': 86\n",
    "    }\n",
    "}\n",
    "\n",
    "data['grades']['Geography']"
   ]
  },
  {
   "cell_type": "markdown",
   "metadata": {},
   "source": [
    "## Why does this function not return correctly for the name `Amy`? "
   ]
  },
  {
   "cell_type": "code",
   "execution_count": null,
   "metadata": {},
   "outputs": [],
   "source": [
    "def get_count_vowels(in_string):\n",
    "    vowels_counter = 0\n",
    "    \n",
    "    for vowel in \"aeiou\":\n",
    "        vowels_count += in_string.count(vowel)\n",
    "        # add count to counter for each vowel\n",
    "    \n",
    "    return vowels_counter"
   ]
  },
  {
   "cell_type": "code",
   "execution_count": null,
   "metadata": {},
   "outputs": [],
   "source": [
    "3 == get_count_vowels('Daniel')"
   ]
  },
  {
   "cell_type": "code",
   "execution_count": null,
   "metadata": {},
   "outputs": [],
   "source": [
    "1 == get_count_vowels('Amy')  # incorrect"
   ]
  },
  {
   "cell_type": "code",
   "execution_count": null,
   "metadata": {},
   "outputs": [],
   "source": [
    "4 == get_count_vowels('Alexander')  # also not correct"
   ]
  },
  {
   "cell_type": "markdown",
   "metadata": {},
   "source": [
    "## Incorrect FizzBuzz\n",
    "\n",
    "> Write a Python program which iterates the integers from 1 to **30** (edit). For multiples of three print \"Fizz\" instead of the number and for the multiples of five print \"Buzz\". For numbers which are multiples of both three and five print \"FizzBuzz\". Source: https://www.w3resource.com/python-exercises/python-conditional-exercise-10.php"
   ]
  },
  {
   "cell_type": "code",
   "execution_count": null,
   "metadata": {},
   "outputs": [],
   "source": [
    "for i in range(1, 30):\n",
    "#     if i % 3 == 0 and i % 5 == 0:\n",
    "#         print(\"fizzbuzz\")\n",
    "#     elif i % 3 == 0:\n",
    "#         print(\"fizz\")\n",
    "#     elif i % 5 == 0:\n",
    "#         print(\"buzz\")\n",
    "#     else:\n",
    "#         print(i)\n",
    "    \n",
    "    if i % 3 == 0:\n",
    "        print(\"fizz\")\n",
    "    elif i % 5 == 0:\n",
    "        print(\"buzz\")\n",
    "    elif i % 3 == 0 and i % 5 == 0:\n",
    "        print(\"fizzbuzz\")\n",
    "    else:\n",
    "        print(i)"
   ]
  },
  {
   "cell_type": "markdown",
   "metadata": {},
   "source": [
    "## What is missing from this Function? \n",
    "\n",
    "I want to pass in a string of coordinates (and perhaps a character if I don't want default comma parser) and **return** both coordinates. "
   ]
  },
  {
   "cell_type": "code",
   "execution_count": 152,
   "metadata": {},
   "outputs": [],
   "source": [
    "def coordinate_parser(\n",
    "    coord_str: str,\n",
    "    parse_char: str=','\n",
    "):\n",
    "    coord_1 = float(coord_str.split(parse_char)[0])\n",
    "    coord_2 = float(coord_str.split(parse_char)[1])\n",
    "    return coord_1, coord_2  # remove this line for example"
   ]
  },
  {
   "cell_type": "code",
   "execution_count": 153,
   "metadata": {},
   "outputs": [
    {
     "name": "stdout",
     "output_type": "stream",
     "text": [
      "42.7 -79.2\n"
     ]
    }
   ],
   "source": [
    "a, b = coordinate_parser('42.7, -79.2')\n",
    "print(a, b)"
   ]
  },
  {
   "cell_type": "code",
   "execution_count": 154,
   "metadata": {},
   "outputs": [
    {
     "name": "stdout",
     "output_type": "stream",
     "text": [
      "42.7 -79.2\n"
     ]
    }
   ],
   "source": [
    "a, b = coordinate_parser('42.7|-79.2', '|')\n",
    "print(a, b)"
   ]
  },
  {
   "cell_type": "markdown",
   "metadata": {},
   "source": [
    "## How do I interpret this error and what's the fix? \n",
    "\n",
    "I want to test out `time.sleep()` and `timer.Timer`. "
   ]
  },
  {
   "cell_type": "code",
   "execution_count": 155,
   "metadata": {},
   "outputs": [
    {
     "ename": "ModuleNotFoundError",
     "evalue": "No module named 'timer'",
     "output_type": "error",
     "traceback": [
      "\u001b[0;31m------------------------------------------------\u001b[0m",
      "\u001b[0;31mModuleNotFoundError\u001b[0mTraceback (most recent call last)",
      "\u001b[0;32m<ipython-input-155-c3f115aae31b>\u001b[0m in \u001b[0;36m<module>\u001b[0;34m\u001b[0m\n\u001b[1;32m      1\u001b[0m \u001b[0;32mimport\u001b[0m \u001b[0mtime\u001b[0m\u001b[0;34m\u001b[0m\u001b[0;34m\u001b[0m\u001b[0m\n\u001b[0;32m----> 2\u001b[0;31m \u001b[0;32mfrom\u001b[0m \u001b[0mtimer\u001b[0m \u001b[0;32mimport\u001b[0m \u001b[0mTimer\u001b[0m\u001b[0;34m\u001b[0m\u001b[0;34m\u001b[0m\u001b[0m\n\u001b[0m\u001b[1;32m      3\u001b[0m \u001b[0;34m\u001b[0m\u001b[0m\n\u001b[1;32m      4\u001b[0m \u001b[0mt\u001b[0m \u001b[0;34m=\u001b[0m \u001b[0mTimer\u001b[0m\u001b[0;34m(\u001b[0m\u001b[0;34m)\u001b[0m\u001b[0;34m\u001b[0m\u001b[0;34m\u001b[0m\u001b[0m\n\u001b[1;32m      5\u001b[0m \u001b[0;34m\u001b[0m\u001b[0m\n",
      "\u001b[0;31mModuleNotFoundError\u001b[0m: No module named 'timer'"
     ]
    }
   ],
   "source": [
    "import time\n",
    "from timer import Timer\n",
    "\n",
    "t = Timer()\n",
    "\n",
    "t.start()\n",
    "\n",
    "print('Testing time.sleep()')\n",
    "time.sleep(5)\n",
    "\n",
    "t.stop()  # A few seconds later"
   ]
  },
  {
   "cell_type": "markdown",
   "metadata": {},
   "source": [
    "## Why is this Function returning the wrong values"
   ]
  },
  {
   "cell_type": "code",
   "execution_count": null,
   "metadata": {},
   "outputs": [],
   "source": [
    "def return_max_number_in_list(input_list):\n",
    "    max_num = float(\"-inf\")  # start at neg. inf\n",
    "    \n",
    "    for i in input_list:\n",
    "        if i > max_num:\n",
    "            max_num = i\n",
    "            \n",
    "    return max_num  # replace w/ i for example"
   ]
  },
  {
   "cell_type": "code",
   "execution_count": null,
   "metadata": {},
   "outputs": [],
   "source": [
    "return_max_number_in_list(\n",
    "    [1, 50, 100, 100_000, -7, 10, 200_000, -1_000_000]\n",
    ")"
   ]
  },
  {
   "cell_type": "markdown",
   "metadata": {},
   "source": [
    "###### Okay moving back to Plotting"
   ]
  },
  {
   "cell_type": "markdown",
   "metadata": {},
   "source": [
    "# Seaborn PairPlot\n",
    "\n",
    "#### First we'll load in a new dataset from Seabron called `\"iris\"`"
   ]
  },
  {
   "cell_type": "code",
   "execution_count": null,
   "metadata": {},
   "outputs": [],
   "source": [
    "iris = sns.load_dataset(\"iris\")  \n",
    "# default dataset called iris"
   ]
  },
  {
   "cell_type": "markdown",
   "metadata": {},
   "source": [
    "#### Check out the `iris` DataFrame"
   ]
  },
  {
   "cell_type": "code",
   "execution_count": null,
   "metadata": {},
   "outputs": [],
   "source": [
    "iris"
   ]
  },
  {
   "cell_type": "markdown",
   "metadata": {},
   "source": [
    "#### Now let's use the `.pairplot()` to show Distributions along with Scatterplots\n",
    "\n"
   ]
  },
  {
   "cell_type": "code",
   "execution_count": null,
   "metadata": {},
   "outputs": [],
   "source": [
    "sns.pairplot(iris);"
   ]
  },
  {
   "cell_type": "markdown",
   "metadata": {},
   "source": [
    "#### Now let's set a Column as a Seperate Class\n"
   ]
  },
  {
   "cell_type": "code",
   "execution_count": null,
   "metadata": {},
   "outputs": [],
   "source": [
    "sns.pairplot(iris, hue=\"species\");"
   ]
  },
  {
   "cell_type": "markdown",
   "metadata": {},
   "source": [
    "#### Seaborn `.scatterplot()`"
   ]
  },
  {
   "cell_type": "code",
   "execution_count": null,
   "metadata": {},
   "outputs": [],
   "source": [
    "plt.figure(figsize=(5, 5))\n",
    "\n",
    "sns.scatterplot(\n",
    "    data=iris,\n",
    "    x='petal_width', \n",
    "    y='petal_length', \n",
    "    alpha=0.9,\n",
    ");"
   ]
  },
  {
   "cell_type": "markdown",
   "metadata": {},
   "source": [
    "# Missing Values (Nulls) with Missingno\n",
    "\n",
    "#### Read in the `.csv` as `missing_df`. "
   ]
  },
  {
   "cell_type": "code",
   "execution_count": null,
   "metadata": {},
   "outputs": [],
   "source": [
    "missing_df = pd.read_csv('data/missing_values_example.csv')"
   ]
  },
  {
   "cell_type": "markdown",
   "metadata": {},
   "source": [
    "#### Use `msno.matrix()` to visualize our Missing Data"
   ]
  },
  {
   "cell_type": "code",
   "execution_count": null,
   "metadata": {},
   "outputs": [],
   "source": [
    "msno.matrix(missing_df);"
   ]
  },
  {
   "cell_type": "markdown",
   "metadata": {},
   "source": [
    "# Projection Systems"
   ]
  },
  {
   "cell_type": "markdown",
   "metadata": {},
   "source": [
    "#### Set the `.geojson` url to a variable"
   ]
  },
  {
   "cell_type": "code",
   "execution_count": null,
   "metadata": {},
   "outputs": [],
   "source": [
    "boro_geojson_link = 'https://data.cityofnewyork.us/api/geospatial/tqmj-j8zm?method=export&format=GeoJSON'"
   ]
  },
  {
   "cell_type": "markdown",
   "metadata": {},
   "source": [
    "#### Read `.geojson` file to GeoDataFrame"
   ]
  },
  {
   "cell_type": "code",
   "execution_count": null,
   "metadata": {},
   "outputs": [],
   "source": [
    "gdf = gpd.read_file(boro_geojson_link) "
   ]
  },
  {
   "cell_type": "markdown",
   "metadata": {},
   "source": [
    "#### Plot the GeoDataFrame"
   ]
  },
  {
   "cell_type": "code",
   "execution_count": null,
   "metadata": {},
   "outputs": [],
   "source": [
    "gdf.plot();"
   ]
  },
  {
   "cell_type": "markdown",
   "metadata": {},
   "source": [
    "#### Access the GeoDataFrame's CRS (Coordinate Reference System)\n",
    "\n",
    "> The Coordinate Reference System (CRS) is important because the geometric shapes in a GeoSeries or GeoDataFrame object are simply a collection of coordinates in an arbitrary space. A CRS tells Python how those coordinates relate to places on the Earth.\n",
    "\n",
    "> You can find the codes for most commonly used projections from www.spatialreference.org.\n",
    "\n",
    "> The same CRS can often be referred to in many ways. For example, one of the most commonly used CRS is the WGS84 latitude-longitude projection. This can be referred to using the authority code \"EPSG:4326\". Source: https://geopandas.org/projections.html"
   ]
  },
  {
   "cell_type": "code",
   "execution_count": null,
   "metadata": {},
   "outputs": [],
   "source": [
    "gdf.crs"
   ]
  },
  {
   "cell_type": "markdown",
   "metadata": {},
   "source": [
    "## Re-Projecting Data\n",
    "\n",
    "> Re-projecting is the process of changing the representation of locations from one coordinate system to another. All projections of locations on the Earth into a two-dimensional plane are distortions, the projection that is best for your application may be different from the projection associated with the data you import. In these cases, data can be re-projected using the GeoDataFrame.to_crs() command. Source: https://geopandas.org/projections.html#re-projecting\n",
    "\n",
    "Let's Re-Project to the standard NYC Projection System: **NAD (North American Datum) 1983 State Plane New York Long Island (feet)**. Which is also defined by the **EPSG** (European Petroleum Survey Group) code [**2263**](https://epsg.io/2263)."
   ]
  },
  {
   "cell_type": "code",
   "execution_count": null,
   "metadata": {},
   "outputs": [],
   "source": [
    "gdf.plot();\n",
    "gdf.to_crs(epsg=2263).plot();"
   ]
  },
  {
   "cell_type": "markdown",
   "metadata": {},
   "source": [
    "#### Note the differences in the **geometry** column data"
   ]
  },
  {
   "cell_type": "code",
   "execution_count": null,
   "metadata": {},
   "outputs": [],
   "source": [
    "gdf[['geometry']].head(3)"
   ]
  },
  {
   "cell_type": "code",
   "execution_count": null,
   "metadata": {},
   "outputs": [],
   "source": [
    "gdf[['geometry']].to_crs(epsg=2263).head(3)"
   ]
  },
  {
   "cell_type": "markdown",
   "metadata": {},
   "source": [
    "#### To change the Projection, we set the argument `inplace=True`"
   ]
  },
  {
   "cell_type": "code",
   "execution_count": null,
   "metadata": {},
   "outputs": [],
   "source": [
    "gdf.to_crs(epsg=2263, inplace=True)"
   ]
  },
  {
   "cell_type": "markdown",
   "metadata": {},
   "source": [
    "#### Let's show another example for emphasis"
   ]
  },
  {
   "cell_type": "code",
   "execution_count": null,
   "metadata": {},
   "outputs": [],
   "source": [
    "world = gpd.read_file(gpd.datasets.get_path('naturalearth_lowres'))\n",
    "ax = world.plot()\n",
    "ax.set_title(\"WGS84 (lat/lon)\");\n",
    "\n",
    "world = world[\n",
    "    (world.name != \"Antarctica\") & (world.name != \"Fr. S. Antarctic Lands\")\n",
    "].to_crs(\"EPSG:3395\")\n",
    "ax = world.plot()\n",
    "ax.set_title(\"Mercator\");"
   ]
  },
  {
   "cell_type": "markdown",
   "metadata": {},
   "source": [
    "# Geoprocessing\n",
    "\n",
    "Very broadly, **Geoprocessing** is any operation involving geospatial data or methods. The Geographic Information Systems (GIS) software company Esri refers to it as \"[Computing with geographic data.](http://webhelp.esri.com/arcgisdesktop/9.3/index.cfm?TopicName=Comparing_Geoprocessing_and_Spatial_Analysis)\" It is commonly misused interchangeably with the term [Spatial Analysis](http://webhelp.esri.com/arcgisdesktop/9.3/index.cfm?TopicName=Comparing_Geoprocessing_and_Spatial_Analysi). However, Spatial Analysis includes the interpretation of the results of Geoprocessing. \n",
    "\n",
    "Professor Jochen Albrecht defines Geoprocessing as;\n",
    "> _...any GIS operation used to manipulate data. A typical geoprocessing operation takes an input dataset, performs an operation on that dataset, and returns the result of the operation as an output dataset, also referred to as derived data. Common geoprocessing operations are geographic feature overlay, feature selection and analysis, topology processing, and data conversion. Geoprocessing allows you to define, manage, and analyze geographic information used to make decisions._ [Jochen Albrecht](http://www.geography.hunter.cuny.edu/~jochen/GTECH361/lectures/lecture12/concepts/01%20What%20is%20geoprocessing.htm)\n",
    "\n",
    "### Geoprocessing Library Selection\n",
    "\n",
    "There are several Geoprocessing libraries and technologies. A few notable open source ones are;\n",
    "\n",
    "* [PostGIS](https://postgis.net/) - Spatially Enabled PostgreSQL \n",
    "* [GeoPandas](https://geopandas.org/) - Pandas Extended with [Shapely](https://shapely.readthedocs.io/en/latest/)\n",
    "* [Arcpy](https://pro.arcgis.com/en/pro-app/arcpy/get-started/what-is-arcpy-.htm) - Esri's Python site package\n",
    "* [PyQGIS](https://docs.qgis.org/testing/en/docs/pyqgis_developer_cookbook/) - [QGIS](https://www.qgis.org/en/site/)'s Python Package\n",
    "\n",
    "#### ArcPy\n",
    "\n",
    "> ArcPy is a Python site package that provides a useful and productive way to perform geographic data analysis, data conversion, data management, and map automation with Python. [Esri](https://pro.arcgis.com/en/pro-app/arcpy/get-started/what-is-arcpy-.htm)\n",
    "\n",
    "Arcpy is available in both free trial versions as well as paid home and commercial licenses on Windows or virtual Windows operating systems. The [ArcGIS API for Python](https://www.esri.com/en-us/arcgis/trial), using ArcGIS Online is also available for multiple platforms. However, for **fast** Geoprocessing, Arcpy made the most sense. Especially when, in our group team Delta, team members were waiting for the output of the Geoprocessing steps. Rather than be a bottleneck extending GeoPandas or setting up (and also extending) PostGIS, Arcpy helped enable a quicker turnaround of Geoprocessing output."
   ]
  },
  {
   "cell_type": "markdown",
   "metadata": {},
   "source": [
    "# Geometric Manipulations\n",
    "\n",
    "## Buffer\n",
    "\n",
    "> Returns a GeoSeries of geometries representing all points within a given distance of each geometric object. Source: https://geopandas.org/geometric_manipulations.html"
   ]
  },
  {
   "cell_type": "code",
   "execution_count": null,
   "metadata": {},
   "outputs": [],
   "source": [
    "fig, ax = plt.subplots(figsize=(6, 6))\n",
    "\n",
    "gdf.plot(ax=ax)\n",
    "\n",
    "gdf.buffer(5000).plot(\n",
    "    ax=ax,\n",
    "    facecolor=\"none\",\n",
    "    alpha=0.7,\n",
    "    edgecolor='red', \n",
    "    linewidth=3,\n",
    ")\n",
    "\n",
    "plt.title('Buffer');"
   ]
  },
  {
   "cell_type": "markdown",
   "metadata": {},
   "source": [
    "## Centroid\n",
    "\n",
    "> Returns a GeoSeries of points for each geometric centroid. Source: https://geopandas.org/geometric_manipulations.html#GeoSeries.boundary\n",
    "\n",
    "Wikipedia:\n",
    "> In mathematics and physics, the centroid or geometric center of a plane figure is the arithmetic mean position of all the points in the figure. Informally, it is the point at which a cutout of the shape could be perfectly balanced on the tip of a pin.[1]\n",
    "\n",
    "> The definition extends to any object in n-dimensional space: its centroid is the mean position of all the points in all of the coordinate directions.[2] Source: https://en.wikipedia.org/wiki/Centroid\n",
    "\n",
    "![centroid](https://upload.wikimedia.org/wikipedia/commons/thumb/5/5e/Triangle.Centroid.svg/440px-Triangle.Centroid.svg.png)\n",
    "_Source: [https://en.wikipedia.org/wiki/Centroid](https://en.wikipedia.org/wiki/Centroid)_"
   ]
  },
  {
   "cell_type": "code",
   "execution_count": null,
   "metadata": {},
   "outputs": [],
   "source": [
    "fig, ax = plt.subplots(figsize=(7, 7))\n",
    "\n",
    "gdf.plot(ax=ax)\n",
    "\n",
    "gdf.centroid.plot(\n",
    "    ax=ax,\n",
    "    facecolor=\"red\",\n",
    ")\n",
    "\n",
    "plt.title('Centroid');"
   ]
  },
  {
   "cell_type": "markdown",
   "metadata": {},
   "source": [
    "## Convex Hull\n",
    "\n",
    "> Returns a GeoSeries of geometries representing the smallest convex Polygon containing all the points in each object unless the number of points in the object is less than three. For two points, the convex hull collapses to a LineString; for 1, a Point. Source: https://geopandas.org/geometric_manipulations.html#GeoSeries.boundary\n",
    "\n",
    "Wikipedia:\n",
    "\n",
    "> In geometry, the convex hull or convex envelope or convex closure of a shape is the smallest convex set that contains it. For a bounded subset of the plane, the convex hull may be visualized as the shape enclosed by a rubber band stretched around the subset. Source: https://en.wikipedia.org/wiki/Convex_hull"
   ]
  },
  {
   "cell_type": "code",
   "execution_count": null,
   "metadata": {
    "scrolled": false
   },
   "outputs": [],
   "source": [
    "fig, ax = plt.subplots(figsize=(7, 7))\n",
    "\n",
    "gdf.plot(\n",
    "    ax=ax, \n",
    ")\n",
    "\n",
    "gdf.convex_hull.plot(\n",
    "    ax=ax,\n",
    "    facecolor=\"none\",\n",
    "    alpha=0.7,\n",
    "    edgecolor='red', \n",
    "    linewidth=3,\n",
    ")\n",
    "\n",
    "plt.title('Convex Hull');"
   ]
  },
  {
   "cell_type": "markdown",
   "metadata": {},
   "source": [
    "## Envelope\n",
    "\n",
    "> Returns a GeoSeries of geometries representing the point or smallest rectangular polygon (with sides parallel to the coordinate axes) that contains each object. Source: https://geopandas.org/geometric_manipulations.html#GeoSeries.boundary"
   ]
  },
  {
   "cell_type": "code",
   "execution_count": null,
   "metadata": {},
   "outputs": [],
   "source": [
    "fig, ax = plt.subplots(figsize=(7, 7))\n",
    "\n",
    "gdf.plot(\n",
    "    ax=ax, \n",
    ")\n",
    "\n",
    "gdf.envelope.plot(\n",
    "    ax=ax,\n",
    "    facecolor=\"none\",\n",
    "    alpha=0.7,\n",
    "    edgecolor='red', \n",
    "    linewidth=3,\n",
    ")\n",
    "\n",
    "plt.title('Envelope');"
   ]
  },
  {
   "cell_type": "markdown",
   "metadata": {},
   "source": [
    "## Simplify\n",
    "\n",
    "> Returns a GeoSeries containing a simplified representation of each object. Source: https://geopandas.org/geometric_manipulations.html#GeoSeries.boundary"
   ]
  },
  {
   "cell_type": "code",
   "execution_count": null,
   "metadata": {},
   "outputs": [],
   "source": [
    "fig, ax = plt.subplots(figsize=(7, 7))\n",
    "\n",
    "gdf.plot(\n",
    "    ax=ax, \n",
    ")\n",
    "\n",
    "gdf.simplify(10000).plot(\n",
    "    ax=ax,\n",
    "    facecolor=\"none\",\n",
    "    alpha=0.7,\n",
    "    edgecolor='red', \n",
    "    linewidth=3,\n",
    ")\n",
    "\n",
    "plt.title('Simplify');"
   ]
  },
  {
   "cell_type": "markdown",
   "metadata": {},
   "source": [
    "# Set-Operations with Overlay\n",
    "\n",
    "> When working with multiple spatial datasets – especially multiple polygon or line datasets – users often wish to create new shapes based on places where those datasets overlap (or don’t overlap). These manipulations are often referred using the language of sets – intersections, unions, and differences. These types of operations are made available in the geopandas library through the overlay function.\n",
    "\n",
    "> The basic idea is demonstrated by the graphic below but keep in mind that overlays operate at the DataFrame level, not on individual geometries, and the properties from both are retained. In effect, for every shape in the first GeoDataFrame, this operation is executed against every other shape in the other GeoDataFrame. Source: https://geopandas.org/set_operations.html\n",
    "\n",
    "![overlay](https://geopandas.org/_images/overlay_operations.png)\n",
    "_Source: [https://geopandas.org/set_operations.html](https://geopandas.org/set_operations.html)_\n",
    "\n",
    "\n"
   ]
  },
  {
   "cell_type": "code",
   "execution_count": null,
   "metadata": {},
   "outputs": [],
   "source": [
    "import geopandas\n",
    "from shapely.geometry import Polygon\n",
    "\n",
    "polys1 = geopandas.GeoSeries([\n",
    "    Polygon([(0,0), (2,0), (2,2), (0,2)]),\n",
    "    Polygon([(2,2), (4,2), (4,4), (2,4)])\n",
    "])\n",
    "\n",
    "polys2 = geopandas.GeoSeries([\n",
    "    Polygon([(1,1), (3,1), (3,3), (1,3)]),\n",
    "    Polygon([(3,3), (5,3), (5,5), (3,5)])\n",
    "])\n",
    "\n",
    "df1 = geopandas.GeoDataFrame({'geometry': polys1, 'df1':[1,2]})\n",
    "\n",
    "df2 = geopandas.GeoDataFrame({'geometry': polys2, 'df2':[1,2]})"
   ]
  },
  {
   "cell_type": "code",
   "execution_count": null,
   "metadata": {},
   "outputs": [],
   "source": [
    "ax = df1.plot(color='red');\n",
    "\n",
    "df2.plot(ax=ax, color='green', alpha=0.5);"
   ]
  },
  {
   "cell_type": "markdown",
   "metadata": {},
   "source": [
    "# Union"
   ]
  },
  {
   "cell_type": "code",
   "execution_count": null,
   "metadata": {},
   "outputs": [],
   "source": [
    "res_union = geopandas.overlay(\n",
    "    df1, \n",
    "    df2, \n",
    "    how='union',\n",
    ")"
   ]
  },
  {
   "cell_type": "code",
   "execution_count": null,
   "metadata": {},
   "outputs": [],
   "source": [
    "res_union "
   ]
  },
  {
   "cell_type": "code",
   "execution_count": null,
   "metadata": {},
   "outputs": [],
   "source": [
    "ax = res_union.plot(alpha=0.5, cmap='tab10')\n",
    "\n",
    "df1.plot(ax=ax, facecolor='none', edgecolor='k');\n",
    "\n",
    "df2.plot(ax=ax, facecolor='none', edgecolor='k');"
   ]
  },
  {
   "cell_type": "markdown",
   "metadata": {},
   "source": [
    "## Interesect\n",
    "\n"
   ]
  },
  {
   "cell_type": "code",
   "execution_count": 156,
   "metadata": {},
   "outputs": [],
   "source": [
    "res_intersection = geopandas.overlay(\n",
    "    df1, \n",
    "    df2, \n",
    "    how='intersection',\n",
    ")"
   ]
  },
  {
   "cell_type": "code",
   "execution_count": 157,
   "metadata": {},
   "outputs": [
    {
     "data": {
      "text/html": [
       "<div>\n",
       "<style scoped>\n",
       "    .dataframe tbody tr th:only-of-type {\n",
       "        vertical-align: middle;\n",
       "    }\n",
       "\n",
       "    .dataframe tbody tr th {\n",
       "        vertical-align: top;\n",
       "    }\n",
       "\n",
       "    .dataframe thead th {\n",
       "        text-align: right;\n",
       "    }\n",
       "</style>\n",
       "<table border=\"1\" class=\"dataframe\">\n",
       "  <thead>\n",
       "    <tr style=\"text-align: right;\">\n",
       "      <th></th>\n",
       "      <th>df1</th>\n",
       "      <th>df2</th>\n",
       "      <th>geometry</th>\n",
       "    </tr>\n",
       "  </thead>\n",
       "  <tbody>\n",
       "    <tr>\n",
       "      <td>0</td>\n",
       "      <td>1</td>\n",
       "      <td>1</td>\n",
       "      <td>POLYGON ((1.00000 2.00000, 2.00000 2.00000, 2....</td>\n",
       "    </tr>\n",
       "    <tr>\n",
       "      <td>1</td>\n",
       "      <td>2</td>\n",
       "      <td>1</td>\n",
       "      <td>POLYGON ((2.00000 2.00000, 2.00000 3.00000, 3....</td>\n",
       "    </tr>\n",
       "    <tr>\n",
       "      <td>2</td>\n",
       "      <td>2</td>\n",
       "      <td>2</td>\n",
       "      <td>POLYGON ((3.00000 4.00000, 4.00000 4.00000, 4....</td>\n",
       "    </tr>\n",
       "  </tbody>\n",
       "</table>\n",
       "</div>"
      ],
      "text/plain": [
       "   df1  df2                                           geometry\n",
       "0    1    1  POLYGON ((1.00000 2.00000, 2.00000 2.00000, 2....\n",
       "1    2    1  POLYGON ((2.00000 2.00000, 2.00000 3.00000, 3....\n",
       "2    2    2  POLYGON ((3.00000 4.00000, 4.00000 4.00000, 4...."
      ]
     },
     "execution_count": 157,
     "metadata": {},
     "output_type": "execute_result"
    }
   ],
   "source": [
    "res_intersection"
   ]
  },
  {
   "cell_type": "code",
   "execution_count": 158,
   "metadata": {},
   "outputs": [
    {
     "data": {
      "image/png": "[encoded data removed]",
      "text/plain": [
       "<Figure size 432x288 with 1 Axes>"
      ]
     },
     "metadata": {
      "needs_background": "light"
     },
     "output_type": "display_data"
    }
   ],
   "source": [
    "ax = res_intersection.plot(cmap='tab10')\n",
    "\n",
    "df1.plot(ax=ax, facecolor='none', edgecolor='k');\n",
    "\n",
    "df2.plot(ax=ax, facecolor='none', edgecolor='k');"
   ]
  },
  {
   "cell_type": "markdown",
   "metadata": {},
   "source": [
    "# Symetrical Difference"
   ]
  },
  {
   "cell_type": "code",
   "execution_count": 159,
   "metadata": {},
   "outputs": [],
   "source": [
    "res_symdiff = geopandas.overlay(\n",
    "    df1, \n",
    "    df2, \n",
    "    how='symmetric_difference',\n",
    ")"
   ]
  },
  {
   "cell_type": "code",
   "execution_count": 160,
   "metadata": {},
   "outputs": [
    {
     "data": {
      "text/html": [
       "<div>\n",
       "<style scoped>\n",
       "    .dataframe tbody tr th:only-of-type {\n",
       "        vertical-align: middle;\n",
       "    }\n",
       "\n",
       "    .dataframe tbody tr th {\n",
       "        vertical-align: top;\n",
       "    }\n",
       "\n",
       "    .dataframe thead th {\n",
       "        text-align: right;\n",
       "    }\n",
       "</style>\n",
       "<table border=\"1\" class=\"dataframe\">\n",
       "  <thead>\n",
       "    <tr style=\"text-align: right;\">\n",
       "      <th></th>\n",
       "      <th>df1</th>\n",
       "      <th>df2</th>\n",
       "      <th>geometry</th>\n",
       "    </tr>\n",
       "  </thead>\n",
       "  <tbody>\n",
       "    <tr>\n",
       "      <td>0</td>\n",
       "      <td>1.0</td>\n",
       "      <td>NaN</td>\n",
       "      <td>POLYGON ((0.00000 0.00000, 0.00000 2.00000, 1....</td>\n",
       "    </tr>\n",
       "    <tr>\n",
       "      <td>1</td>\n",
       "      <td>2.0</td>\n",
       "      <td>NaN</td>\n",
       "      <td>MULTIPOLYGON (((2.00000 3.00000, 2.00000 4.000...</td>\n",
       "    </tr>\n",
       "    <tr>\n",
       "      <td>2</td>\n",
       "      <td>NaN</td>\n",
       "      <td>1.0</td>\n",
       "      <td>MULTIPOLYGON (((1.00000 2.00000, 1.00000 3.000...</td>\n",
       "    </tr>\n",
       "    <tr>\n",
       "      <td>3</td>\n",
       "      <td>NaN</td>\n",
       "      <td>2.0</td>\n",
       "      <td>POLYGON ((3.00000 4.00000, 3.00000 5.00000, 5....</td>\n",
       "    </tr>\n",
       "  </tbody>\n",
       "</table>\n",
       "</div>"
      ],
      "text/plain": [
       "   df1  df2                                           geometry\n",
       "0  1.0  NaN  POLYGON ((0.00000 0.00000, 0.00000 2.00000, 1....\n",
       "1  2.0  NaN  MULTIPOLYGON (((2.00000 3.00000, 2.00000 4.000...\n",
       "2  NaN  1.0  MULTIPOLYGON (((1.00000 2.00000, 1.00000 3.000...\n",
       "3  NaN  2.0  POLYGON ((3.00000 4.00000, 3.00000 5.00000, 5...."
      ]
     },
     "execution_count": 160,
     "metadata": {},
     "output_type": "execute_result"
    }
   ],
   "source": [
    "res_symdiff"
   ]
  },
  {
   "cell_type": "code",
   "execution_count": 161,
   "metadata": {},
   "outputs": [
    {
     "data": {
      "image/png": "[encoded data removed]",
      "text/plain": [
       "<Figure size 432x288 with 1 Axes>"
      ]
     },
     "metadata": {
      "needs_background": "light"
     },
     "output_type": "display_data"
    }
   ],
   "source": [
    "ax = res_symdiff.plot(cmap='tab10')\n",
    "\n",
    "df1.plot(ax=ax, facecolor='none', edgecolor='k');\n",
    "\n",
    "df2.plot(ax=ax, facecolor='none', edgecolor='k');"
   ]
  },
  {
   "cell_type": "markdown",
   "metadata": {},
   "source": [
    "# Difference"
   ]
  },
  {
   "cell_type": "code",
   "execution_count": 162,
   "metadata": {},
   "outputs": [],
   "source": [
    "res_difference = geopandas.overlay(\n",
    "    df1, \n",
    "    df2, \n",
    "    how='difference',\n",
    ")"
   ]
  },
  {
   "cell_type": "code",
   "execution_count": 163,
   "metadata": {},
   "outputs": [
    {
     "data": {
      "text/html": [
       "<div>\n",
       "<style scoped>\n",
       "    .dataframe tbody tr th:only-of-type {\n",
       "        vertical-align: middle;\n",
       "    }\n",
       "\n",
       "    .dataframe tbody tr th {\n",
       "        vertical-align: top;\n",
       "    }\n",
       "\n",
       "    .dataframe thead th {\n",
       "        text-align: right;\n",
       "    }\n",
       "</style>\n",
       "<table border=\"1\" class=\"dataframe\">\n",
       "  <thead>\n",
       "    <tr style=\"text-align: right;\">\n",
       "      <th></th>\n",
       "      <th>geometry</th>\n",
       "      <th>df1</th>\n",
       "    </tr>\n",
       "  </thead>\n",
       "  <tbody>\n",
       "    <tr>\n",
       "      <td>0</td>\n",
       "      <td>POLYGON ((0.00000 0.00000, 0.00000 2.00000, 1....</td>\n",
       "      <td>1</td>\n",
       "    </tr>\n",
       "    <tr>\n",
       "      <td>1</td>\n",
       "      <td>MULTIPOLYGON (((2.00000 3.00000, 2.00000 4.000...</td>\n",
       "      <td>2</td>\n",
       "    </tr>\n",
       "  </tbody>\n",
       "</table>\n",
       "</div>"
      ],
      "text/plain": [
       "                                            geometry  df1\n",
       "0  POLYGON ((0.00000 0.00000, 0.00000 2.00000, 1....    1\n",
       "1  MULTIPOLYGON (((2.00000 3.00000, 2.00000 4.000...    2"
      ]
     },
     "execution_count": 163,
     "metadata": {},
     "output_type": "execute_result"
    }
   ],
   "source": [
    "res_difference"
   ]
  },
  {
   "cell_type": "code",
   "execution_count": 164,
   "metadata": {},
   "outputs": [
    {
     "data": {
      "image/png": "[encoded data removed]",
      "text/plain": [
       "<Figure size 432x288 with 1 Axes>"
      ]
     },
     "metadata": {
      "needs_background": "light"
     },
     "output_type": "display_data"
    }
   ],
   "source": [
    "ax = res_difference.plot(cmap='tab10')\n",
    "\n",
    "df1.plot(ax=ax, facecolor='none', edgecolor='k');\n",
    "\n",
    "df2.plot(ax=ax, facecolor='none', edgecolor='k');"
   ]
  },
  {
   "cell_type": "markdown",
   "metadata": {},
   "source": [
    "# Dissolve \n",
    "https://geopandas.org/aggregation_with_dissolve.html"
   ]
  },
  {
   "cell_type": "code",
   "execution_count": 165,
   "metadata": {},
   "outputs": [],
   "source": [
    "countries = geopandas.read_file(geopandas.datasets.get_path('naturalearth_lowres'))"
   ]
  },
  {
   "cell_type": "code",
   "execution_count": 166,
   "metadata": {},
   "outputs": [
    {
     "data": {
      "image/png": "[encoded data removed]",
      "text/plain": [
       "<Figure size 432x288 with 1 Axes>"
      ]
     },
     "metadata": {
      "needs_background": "light"
     },
     "output_type": "display_data"
    }
   ],
   "source": [
    "countries.plot(cmap='tab10');"
   ]
  },
  {
   "cell_type": "code",
   "execution_count": 167,
   "metadata": {},
   "outputs": [],
   "source": [
    "countries = countries[['continent', 'geometry']]"
   ]
  },
  {
   "cell_type": "code",
   "execution_count": 168,
   "metadata": {},
   "outputs": [],
   "source": [
    "continents = countries.dissolve(by='continent')"
   ]
  },
  {
   "cell_type": "code",
   "execution_count": 169,
   "metadata": {},
   "outputs": [
    {
     "data": {
      "image/png": "[encoded data removed]",
      "text/plain": [
       "<Figure size 432x288 with 1 Axes>"
      ]
     },
     "metadata": {
      "needs_background": "light"
     },
     "output_type": "display_data"
    }
   ],
   "source": [
    "continents.plot(cmap='tab10');"
   ]
  },
  {
   "cell_type": "markdown",
   "metadata": {},
   "source": [
    "## Dissolve and Sum"
   ]
  },
  {
   "cell_type": "code",
   "execution_count": 170,
   "metadata": {},
   "outputs": [],
   "source": [
    "countries = geopandas.read_file(geopandas.datasets.get_path('naturalearth_lowres'))\n",
    "countries = countries[['continent', 'geometry', 'pop_est']]"
   ]
  },
  {
   "cell_type": "code",
   "execution_count": 171,
   "metadata": {},
   "outputs": [],
   "source": [
    "continents = countries.dissolve(\n",
    "    by='continent', \n",
    "    aggfunc='sum',\n",
    ")"
   ]
  },
  {
   "cell_type": "code",
   "execution_count": 172,
   "metadata": {},
   "outputs": [
    {
     "data": {
      "image/png": "[encoded data removed]",
      "text/plain": [
       "<Figure size 432x288 with 1 Axes>"
      ]
     },
     "metadata": {
      "needs_background": "light"
     },
     "output_type": "display_data"
    }
   ],
   "source": [
    "continents.plot(column = 'pop_est', scheme='quantiles', cmap='YlOrRd');"
   ]
  },
  {
   "cell_type": "code",
   "execution_count": 173,
   "metadata": {},
   "outputs": [
    {
     "data": {
      "text/html": [
       "<div>\n",
       "<style scoped>\n",
       "    .dataframe tbody tr th:only-of-type {\n",
       "        vertical-align: middle;\n",
       "    }\n",
       "\n",
       "    .dataframe tbody tr th {\n",
       "        vertical-align: top;\n",
       "    }\n",
       "\n",
       "    .dataframe thead th {\n",
       "        text-align: right;\n",
       "    }\n",
       "</style>\n",
       "<table border=\"1\" class=\"dataframe\">\n",
       "  <thead>\n",
       "    <tr style=\"text-align: right;\">\n",
       "      <th></th>\n",
       "      <th>geometry</th>\n",
       "      <th>pop_est</th>\n",
       "    </tr>\n",
       "    <tr>\n",
       "      <th>continent</th>\n",
       "      <th></th>\n",
       "      <th></th>\n",
       "    </tr>\n",
       "  </thead>\n",
       "  <tbody>\n",
       "    <tr>\n",
       "      <td>Africa</td>\n",
       "      <td>MULTIPOLYGON (((49.544 -12.470, 49.809 -12.895...</td>\n",
       "      <td>1219176238</td>\n",
       "    </tr>\n",
       "    <tr>\n",
       "      <td>Antarctica</td>\n",
       "      <td>MULTIPOLYGON (((-163.713 -78.596, -163.713 -78...</td>\n",
       "      <td>4050</td>\n",
       "    </tr>\n",
       "    <tr>\n",
       "      <td>Asia</td>\n",
       "      <td>MULTIPOLYGON (((120.295 -10.259, 118.968 -9.55...</td>\n",
       "      <td>4389144868</td>\n",
       "    </tr>\n",
       "    <tr>\n",
       "      <td>Europe</td>\n",
       "      <td>MULTIPOLYGON (((-51.658 4.156, -52.249 3.241, ...</td>\n",
       "      <td>746398461</td>\n",
       "    </tr>\n",
       "    <tr>\n",
       "      <td>North America</td>\n",
       "      <td>MULTIPOLYGON (((-61.680 10.760, -61.105 10.890...</td>\n",
       "      <td>573042112</td>\n",
       "    </tr>\n",
       "  </tbody>\n",
       "</table>\n",
       "</div>"
      ],
      "text/plain": [
       "                                                        geometry     pop_est\n",
       "continent                                                                   \n",
       "Africa         MULTIPOLYGON (((49.544 -12.470, 49.809 -12.895...  1219176238\n",
       "Antarctica     MULTIPOLYGON (((-163.713 -78.596, -163.713 -78...        4050\n",
       "Asia           MULTIPOLYGON (((120.295 -10.259, 118.968 -9.55...  4389144868\n",
       "Europe         MULTIPOLYGON (((-51.658 4.156, -52.249 3.241, ...   746398461\n",
       "North America  MULTIPOLYGON (((-61.680 10.760, -61.105 10.890...   573042112"
      ]
     },
     "execution_count": 173,
     "metadata": {},
     "output_type": "execute_result"
    }
   ],
   "source": [
    "continents.head()"
   ]
  },
  {
   "cell_type": "markdown",
   "metadata": {},
   "source": [
    "# Merging Data"
   ]
  },
  {
   "cell_type": "markdown",
   "metadata": {},
   "source": [
    "# Spatial Joins \n",
    "\n",
    "https://geopandas.org/mergingdata.html"
   ]
  },
  {
   "cell_type": "code",
   "execution_count": 174,
   "metadata": {},
   "outputs": [],
   "source": [
    "world = geopandas.read_file(geopandas.datasets.get_path('naturalearth_lowres'))\n",
    "\n",
    "cities = geopandas.read_file(geopandas.datasets.get_path('naturalearth_cities'))\n",
    "\n",
    "# # For attribute join\n",
    "# country_shapes = world[['geometry', 'iso_a3']]\n",
    "# country_names = world[['name', 'iso_a3']]\n",
    "\n",
    "# For spatial join\n",
    "countries = world[['geometry', 'name', 'pop_est', 'gdp_md_est']]\n",
    "countries = countries.rename(columns={'name':'country'})"
   ]
  },
  {
   "cell_type": "code",
   "execution_count": 175,
   "metadata": {},
   "outputs": [
    {
     "data": {
      "text/html": [
       "<div>\n",
       "<style scoped>\n",
       "    .dataframe tbody tr th:only-of-type {\n",
       "        vertical-align: middle;\n",
       "    }\n",
       "\n",
       "    .dataframe tbody tr th {\n",
       "        vertical-align: top;\n",
       "    }\n",
       "\n",
       "    .dataframe thead th {\n",
       "        text-align: right;\n",
       "    }\n",
       "</style>\n",
       "<table border=\"1\" class=\"dataframe\">\n",
       "  <thead>\n",
       "    <tr style=\"text-align: right;\">\n",
       "      <th></th>\n",
       "      <th>geometry</th>\n",
       "      <th>country</th>\n",
       "      <th>pop_est</th>\n",
       "      <th>gdp_md_est</th>\n",
       "    </tr>\n",
       "  </thead>\n",
       "  <tbody>\n",
       "    <tr>\n",
       "      <td>0</td>\n",
       "      <td>MULTIPOLYGON (((180.00000 -16.06713, 180.00000...</td>\n",
       "      <td>Fiji</td>\n",
       "      <td>920938</td>\n",
       "      <td>8374.0</td>\n",
       "    </tr>\n",
       "    <tr>\n",
       "      <td>1</td>\n",
       "      <td>POLYGON ((33.90371 -0.95000, 34.07262 -1.05982...</td>\n",
       "      <td>Tanzania</td>\n",
       "      <td>53950935</td>\n",
       "      <td>150600.0</td>\n",
       "    </tr>\n",
       "    <tr>\n",
       "      <td>2</td>\n",
       "      <td>POLYGON ((-8.66559 27.65643, -8.66512 27.58948...</td>\n",
       "      <td>W. Sahara</td>\n",
       "      <td>603253</td>\n",
       "      <td>906.5</td>\n",
       "    </tr>\n",
       "    <tr>\n",
       "      <td>3</td>\n",
       "      <td>MULTIPOLYGON (((-122.84000 49.00000, -122.9742...</td>\n",
       "      <td>Canada</td>\n",
       "      <td>35623680</td>\n",
       "      <td>1674000.0</td>\n",
       "    </tr>\n",
       "    <tr>\n",
       "      <td>4</td>\n",
       "      <td>MULTIPOLYGON (((-122.84000 49.00000, -120.0000...</td>\n",
       "      <td>United States of America</td>\n",
       "      <td>326625791</td>\n",
       "      <td>18560000.0</td>\n",
       "    </tr>\n",
       "  </tbody>\n",
       "</table>\n",
       "</div>"
      ],
      "text/plain": [
       "                                            geometry  \\\n",
       "0  MULTIPOLYGON (((180.00000 -16.06713, 180.00000...   \n",
       "1  POLYGON ((33.90371 -0.95000, 34.07262 -1.05982...   \n",
       "2  POLYGON ((-8.66559 27.65643, -8.66512 27.58948...   \n",
       "3  MULTIPOLYGON (((-122.84000 49.00000, -122.9742...   \n",
       "4  MULTIPOLYGON (((-122.84000 49.00000, -120.0000...   \n",
       "\n",
       "                    country    pop_est  gdp_md_est  \n",
       "0                      Fiji     920938      8374.0  \n",
       "1                  Tanzania   53950935    150600.0  \n",
       "2                 W. Sahara     603253       906.5  \n",
       "3                    Canada   35623680   1674000.0  \n",
       "4  United States of America  326625791  18560000.0  "
      ]
     },
     "execution_count": 175,
     "metadata": {},
     "output_type": "execute_result"
    }
   ],
   "source": [
    "countries.head()"
   ]
  },
  {
   "cell_type": "code",
   "execution_count": 176,
   "metadata": {},
   "outputs": [
    {
     "data": {
      "text/html": [
       "<div>\n",
       "<style scoped>\n",
       "    .dataframe tbody tr th:only-of-type {\n",
       "        vertical-align: middle;\n",
       "    }\n",
       "\n",
       "    .dataframe tbody tr th {\n",
       "        vertical-align: top;\n",
       "    }\n",
       "\n",
       "    .dataframe thead th {\n",
       "        text-align: right;\n",
       "    }\n",
       "</style>\n",
       "<table border=\"1\" class=\"dataframe\">\n",
       "  <thead>\n",
       "    <tr style=\"text-align: right;\">\n",
       "      <th></th>\n",
       "      <th>name</th>\n",
       "      <th>geometry</th>\n",
       "    </tr>\n",
       "  </thead>\n",
       "  <tbody>\n",
       "    <tr>\n",
       "      <td>0</td>\n",
       "      <td>Vatican City</td>\n",
       "      <td>POINT (12.45339 41.90328)</td>\n",
       "    </tr>\n",
       "    <tr>\n",
       "      <td>1</td>\n",
       "      <td>San Marino</td>\n",
       "      <td>POINT (12.44177 43.93610)</td>\n",
       "    </tr>\n",
       "    <tr>\n",
       "      <td>2</td>\n",
       "      <td>Vaduz</td>\n",
       "      <td>POINT (9.51667 47.13372)</td>\n",
       "    </tr>\n",
       "    <tr>\n",
       "      <td>3</td>\n",
       "      <td>Luxembourg</td>\n",
       "      <td>POINT (6.13000 49.61166)</td>\n",
       "    </tr>\n",
       "    <tr>\n",
       "      <td>4</td>\n",
       "      <td>Palikir</td>\n",
       "      <td>POINT (158.14997 6.91664)</td>\n",
       "    </tr>\n",
       "  </tbody>\n",
       "</table>\n",
       "</div>"
      ],
      "text/plain": [
       "           name                   geometry\n",
       "0  Vatican City  POINT (12.45339 41.90328)\n",
       "1    San Marino  POINT (12.44177 43.93610)\n",
       "2         Vaduz   POINT (9.51667 47.13372)\n",
       "3    Luxembourg   POINT (6.13000 49.61166)\n",
       "4       Palikir  POINT (158.14997 6.91664)"
      ]
     },
     "execution_count": 176,
     "metadata": {},
     "output_type": "execute_result"
    }
   ],
   "source": [
    "cities.head()"
   ]
  },
  {
   "cell_type": "code",
   "execution_count": 177,
   "metadata": {},
   "outputs": [],
   "source": [
    "cities_with_country = geopandas.sjoin(\n",
    "    cities, \n",
    "    countries, \n",
    "    how=\"inner\", \n",
    "    op='intersects',\n",
    ")"
   ]
  },
  {
   "cell_type": "code",
   "execution_count": 178,
   "metadata": {},
   "outputs": [
    {
     "data": {
      "text/html": [
       "<div>\n",
       "<style scoped>\n",
       "    .dataframe tbody tr th:only-of-type {\n",
       "        vertical-align: middle;\n",
       "    }\n",
       "\n",
       "    .dataframe tbody tr th {\n",
       "        vertical-align: top;\n",
       "    }\n",
       "\n",
       "    .dataframe thead th {\n",
       "        text-align: right;\n",
       "    }\n",
       "</style>\n",
       "<table border=\"1\" class=\"dataframe\">\n",
       "  <thead>\n",
       "    <tr style=\"text-align: right;\">\n",
       "      <th></th>\n",
       "      <th>name</th>\n",
       "      <th>geometry</th>\n",
       "      <th>index_right</th>\n",
       "      <th>country</th>\n",
       "      <th>pop_est</th>\n",
       "      <th>gdp_md_est</th>\n",
       "    </tr>\n",
       "  </thead>\n",
       "  <tbody>\n",
       "    <tr>\n",
       "      <td>0</td>\n",
       "      <td>Vatican City</td>\n",
       "      <td>POINT (12.45339 41.90328)</td>\n",
       "      <td>141</td>\n",
       "      <td>Italy</td>\n",
       "      <td>62137802</td>\n",
       "      <td>2221000.0</td>\n",
       "    </tr>\n",
       "    <tr>\n",
       "      <td>1</td>\n",
       "      <td>San Marino</td>\n",
       "      <td>POINT (12.44177 43.93610)</td>\n",
       "      <td>141</td>\n",
       "      <td>Italy</td>\n",
       "      <td>62137802</td>\n",
       "      <td>2221000.0</td>\n",
       "    </tr>\n",
       "    <tr>\n",
       "      <td>192</td>\n",
       "      <td>Rome</td>\n",
       "      <td>POINT (12.48131 41.89790)</td>\n",
       "      <td>141</td>\n",
       "      <td>Italy</td>\n",
       "      <td>62137802</td>\n",
       "      <td>2221000.0</td>\n",
       "    </tr>\n",
       "    <tr>\n",
       "      <td>2</td>\n",
       "      <td>Vaduz</td>\n",
       "      <td>POINT (9.51667 47.13372)</td>\n",
       "      <td>114</td>\n",
       "      <td>Austria</td>\n",
       "      <td>8754413</td>\n",
       "      <td>416600.0</td>\n",
       "    </tr>\n",
       "    <tr>\n",
       "      <td>184</td>\n",
       "      <td>Vienna</td>\n",
       "      <td>POINT (16.36469 48.20196)</td>\n",
       "      <td>114</td>\n",
       "      <td>Austria</td>\n",
       "      <td>8754413</td>\n",
       "      <td>416600.0</td>\n",
       "    </tr>\n",
       "    <tr>\n",
       "      <td>...</td>\n",
       "      <td>...</td>\n",
       "      <td>...</td>\n",
       "      <td>...</td>\n",
       "      <td>...</td>\n",
       "      <td>...</td>\n",
       "      <td>...</td>\n",
       "    </tr>\n",
       "    <tr>\n",
       "      <td>195</td>\n",
       "      <td>Jakarta</td>\n",
       "      <td>POINT (106.82749 -6.17247)</td>\n",
       "      <td>8</td>\n",
       "      <td>Indonesia</td>\n",
       "      <td>260580739</td>\n",
       "      <td>3028000.0</td>\n",
       "    </tr>\n",
       "    <tr>\n",
       "      <td>196</td>\n",
       "      <td>Bogota</td>\n",
       "      <td>POINT (-74.08529 4.59837)</td>\n",
       "      <td>32</td>\n",
       "      <td>Colombia</td>\n",
       "      <td>47698524</td>\n",
       "      <td>688000.0</td>\n",
       "    </tr>\n",
       "    <tr>\n",
       "      <td>197</td>\n",
       "      <td>Cairo</td>\n",
       "      <td>POINT (31.24802 30.05191)</td>\n",
       "      <td>163</td>\n",
       "      <td>Egypt</td>\n",
       "      <td>97041072</td>\n",
       "      <td>1105000.0</td>\n",
       "    </tr>\n",
       "    <tr>\n",
       "      <td>198</td>\n",
       "      <td>Tokyo</td>\n",
       "      <td>POINT (139.74946 35.68696)</td>\n",
       "      <td>155</td>\n",
       "      <td>Japan</td>\n",
       "      <td>126451398</td>\n",
       "      <td>4932000.0</td>\n",
       "    </tr>\n",
       "    <tr>\n",
       "      <td>200</td>\n",
       "      <td>Santiago</td>\n",
       "      <td>POINT (-70.66899 -33.44807)</td>\n",
       "      <td>10</td>\n",
       "      <td>Chile</td>\n",
       "      <td>17789267</td>\n",
       "      <td>436100.0</td>\n",
       "    </tr>\n",
       "  </tbody>\n",
       "</table>\n",
       "<p>172 rows × 6 columns</p>\n",
       "</div>"
      ],
      "text/plain": [
       "             name                     geometry  index_right    country  \\\n",
       "0    Vatican City    POINT (12.45339 41.90328)          141      Italy   \n",
       "1      San Marino    POINT (12.44177 43.93610)          141      Italy   \n",
       "192          Rome    POINT (12.48131 41.89790)          141      Italy   \n",
       "2           Vaduz     POINT (9.51667 47.13372)          114    Austria   \n",
       "184        Vienna    POINT (16.36469 48.20196)          114    Austria   \n",
       "..            ...                          ...          ...        ...   \n",
       "195       Jakarta   POINT (106.82749 -6.17247)            8  Indonesia   \n",
       "196        Bogota    POINT (-74.08529 4.59837)           32   Colombia   \n",
       "197         Cairo    POINT (31.24802 30.05191)          163      Egypt   \n",
       "198         Tokyo   POINT (139.74946 35.68696)          155      Japan   \n",
       "200      Santiago  POINT (-70.66899 -33.44807)           10      Chile   \n",
       "\n",
       "       pop_est  gdp_md_est  \n",
       "0     62137802   2221000.0  \n",
       "1     62137802   2221000.0  \n",
       "192   62137802   2221000.0  \n",
       "2      8754413    416600.0  \n",
       "184    8754413    416600.0  \n",
       "..         ...         ...  \n",
       "195  260580739   3028000.0  \n",
       "196   47698524    688000.0  \n",
       "197   97041072   1105000.0  \n",
       "198  126451398   4932000.0  \n",
       "200   17789267    436100.0  \n",
       "\n",
       "[172 rows x 6 columns]"
      ]
     },
     "execution_count": 178,
     "metadata": {},
     "output_type": "execute_result"
    }
   ],
   "source": [
    "cities_with_country"
   ]
  },
  {
   "cell_type": "code",
   "execution_count": 179,
   "metadata": {},
   "outputs": [
    {
     "data": {
      "image/png": "[encoded data removed]",
      "text/plain": [
       "<Figure size 720x720 with 1 Axes>"
      ]
     },
     "metadata": {
      "needs_background": "light"
     },
     "output_type": "display_data"
    }
   ],
   "source": [
    "cities_with_country.plot(\n",
    "    column='gdp_md_est', \n",
    "    scheme='quantiles',\n",
    "    legend=True,\n",
    "    figsize=(10, 10)\n",
    ");"
   ]
  },
  {
   "cell_type": "markdown",
   "metadata": {},
   "source": [
    "# For next time\n",
    "\n",
    "* Geocoding\n",
    "\n",
    "* Raster Data Models\n",
    "\n",
    "* Include whether Forks can be updated from the source Repo\n",
    "\n",
    "* Create tools repository\n",
    "  * From tools show lesson on Python dots .  \n",
    "    * So: `from tools.helper import some_function`\n",
    "    \n",
    "\n",
    "\n"
   ]
  },
  {
   "cell_type": "code",
   "execution_count": null,
   "metadata": {},
   "outputs": [],
   "source": []
  }
 ],
 "metadata": {
  "kernelspec": {
   "display_name": "Python 3",
   "language": "python",
   "name": "python3"
  },
  "language_info": {
   "codemirror_mode": {
    "name": "ipython",
    "version": 3
   },
   "file_extension": ".py",
   "mimetype": "text/x-python",
   "name": "python",
   "nbconvert_exporter": "python",
   "pygments_lexer": "ipython3",
   "version": "3.7.4"
  },
  "toc": {
   "base_numbering": 1,
   "nav_menu": {},
   "number_sections": false,
   "sideBar": true,
   "skip_h1_title": false,
   "title_cell": "Table of Contents",
   "title_sidebar": "Contents",
   "toc_cell": true,
   "toc_position": {},
   "toc_section_display": true,
   "toc_window_display": true
  }
 },
 "nbformat": 4,
 "nbformat_minor": 2
}
